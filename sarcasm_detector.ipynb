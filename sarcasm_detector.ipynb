{
 "cells": [
  {
   "cell_type": "markdown",
   "metadata": {},
   "source": [
    "### Sarcasm Detector\n",
    "\n",
    "- Data Collection\n",
    "  - Import a Kaggle DataSet based on Text Form (https://www.kaggle.com/datasets/rmisra/news-headlines-dataset-for-sarcasm-detection -- Json)\n",
    "  - Use Pandas To Turn it into DataFrame\n",
    "  - Explore DataSet and the Data it contains"
   ]
  },
  {
   "cell_type": "code",
   "execution_count": null,
   "metadata": {},
   "outputs": [],
   "source": []
  }
 ],
 "metadata": {
  "language_info": {
   "name": "python"
  },
  "orig_nbformat": 4
 },
 "nbformat": 4,
 "nbformat_minor": 2
}
