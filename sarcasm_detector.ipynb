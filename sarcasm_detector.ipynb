{
 "cells": [
  {
   "cell_type": "markdown",
   "metadata": {},
   "source": [
    "### Sarcasm Detector\n",
    "\n",
    "- Data Collection\n",
    "  - Import wanted libraries\n",
    "  - Import a Kaggle DataSet based on Text Form (example would be --> https://www.kaggle.com/datasets/rmisra/news-headlines-dataset-for-sarcasm-detection)\n",
    "  - Use Pandas To Turn it into DataFrame\n",
    "  - Explore DataSet and the Data it contains"
   ]
  },
  {
   "cell_type": "code",
   "execution_count": 159,
   "metadata": {},
   "outputs": [],
   "source": [
    "import json\n",
    "import pandas as pd\n",
    "import seaborn as sns\n",
    "import numpy as np\n",
    "import matplotlib.pyplot as plt"
   ]
  },
  {
   "cell_type": "code",
   "execution_count": 160,
   "metadata": {},
   "outputs": [
    {
     "name": "stdout",
     "output_type": "stream",
     "text": [
      "mkdir: data: File exists\n"
     ]
    }
   ],
   "source": [
    "! mkdir data"
   ]
  },
  {
   "cell_type": "code",
   "execution_count": 161,
   "metadata": {},
   "outputs": [
    {
     "data": {
      "text/html": [
       "<div>\n",
       "<style scoped>\n",
       "    .dataframe tbody tr th:only-of-type {\n",
       "        vertical-align: middle;\n",
       "    }\n",
       "\n",
       "    .dataframe tbody tr th {\n",
       "        vertical-align: top;\n",
       "    }\n",
       "\n",
       "    .dataframe thead th {\n",
       "        text-align: right;\n",
       "    }\n",
       "</style>\n",
       "<table border=\"1\" class=\"dataframe\">\n",
       "  <thead>\n",
       "    <tr style=\"text-align: right;\">\n",
       "      <th></th>\n",
       "      <th>article_link</th>\n",
       "      <th>headline</th>\n",
       "      <th>is_sarcastic</th>\n",
       "    </tr>\n",
       "  </thead>\n",
       "  <tbody>\n",
       "    <tr>\n",
       "      <th>0</th>\n",
       "      <td>https://www.huffingtonpost.com/entry/versace-b...</td>\n",
       "      <td>former versace store clerk sues over secret 'b...</td>\n",
       "      <td>0</td>\n",
       "    </tr>\n",
       "    <tr>\n",
       "      <th>1</th>\n",
       "      <td>https://www.huffingtonpost.com/entry/roseanne-...</td>\n",
       "      <td>the 'roseanne' revival catches up to our thorn...</td>\n",
       "      <td>0</td>\n",
       "    </tr>\n",
       "    <tr>\n",
       "      <th>2</th>\n",
       "      <td>https://local.theonion.com/mom-starting-to-fea...</td>\n",
       "      <td>mom starting to fear son's web series closest ...</td>\n",
       "      <td>1</td>\n",
       "    </tr>\n",
       "    <tr>\n",
       "      <th>3</th>\n",
       "      <td>https://politics.theonion.com/boehner-just-wan...</td>\n",
       "      <td>boehner just wants wife to listen, not come up...</td>\n",
       "      <td>1</td>\n",
       "    </tr>\n",
       "    <tr>\n",
       "      <th>4</th>\n",
       "      <td>https://www.huffingtonpost.com/entry/jk-rowlin...</td>\n",
       "      <td>j.k. rowling wishes snape happy birthday in th...</td>\n",
       "      <td>0</td>\n",
       "    </tr>\n",
       "    <tr>\n",
       "      <th>5</th>\n",
       "      <td>https://www.huffingtonpost.com/entry/advancing...</td>\n",
       "      <td>advancing the world's women</td>\n",
       "      <td>0</td>\n",
       "    </tr>\n",
       "    <tr>\n",
       "      <th>6</th>\n",
       "      <td>https://www.huffingtonpost.com/entry/how-meat-...</td>\n",
       "      <td>the fascinating case for eating lab-grown meat</td>\n",
       "      <td>0</td>\n",
       "    </tr>\n",
       "    <tr>\n",
       "      <th>7</th>\n",
       "      <td>https://www.huffingtonpost.com/entry/boxed-col...</td>\n",
       "      <td>this ceo will send your kids to school, if you...</td>\n",
       "      <td>0</td>\n",
       "    </tr>\n",
       "    <tr>\n",
       "      <th>8</th>\n",
       "      <td>https://politics.theonion.com/top-snake-handle...</td>\n",
       "      <td>top snake handler leaves sinking huckabee camp...</td>\n",
       "      <td>1</td>\n",
       "    </tr>\n",
       "    <tr>\n",
       "      <th>9</th>\n",
       "      <td>https://www.huffingtonpost.com/entry/fridays-m...</td>\n",
       "      <td>friday's morning email: inside trump's presser...</td>\n",
       "      <td>0</td>\n",
       "    </tr>\n",
       "  </tbody>\n",
       "</table>\n",
       "</div>"
      ],
      "text/plain": [
       "                                        article_link  \\\n",
       "0  https://www.huffingtonpost.com/entry/versace-b...   \n",
       "1  https://www.huffingtonpost.com/entry/roseanne-...   \n",
       "2  https://local.theonion.com/mom-starting-to-fea...   \n",
       "3  https://politics.theonion.com/boehner-just-wan...   \n",
       "4  https://www.huffingtonpost.com/entry/jk-rowlin...   \n",
       "5  https://www.huffingtonpost.com/entry/advancing...   \n",
       "6  https://www.huffingtonpost.com/entry/how-meat-...   \n",
       "7  https://www.huffingtonpost.com/entry/boxed-col...   \n",
       "8  https://politics.theonion.com/top-snake-handle...   \n",
       "9  https://www.huffingtonpost.com/entry/fridays-m...   \n",
       "\n",
       "                                            headline  is_sarcastic  \n",
       "0  former versace store clerk sues over secret 'b...             0  \n",
       "1  the 'roseanne' revival catches up to our thorn...             0  \n",
       "2  mom starting to fear son's web series closest ...             1  \n",
       "3  boehner just wants wife to listen, not come up...             1  \n",
       "4  j.k. rowling wishes snape happy birthday in th...             0  \n",
       "5                        advancing the world's women             0  \n",
       "6     the fascinating case for eating lab-grown meat             0  \n",
       "7  this ceo will send your kids to school, if you...             0  \n",
       "8  top snake handler leaves sinking huckabee camp...             1  \n",
       "9  friday's morning email: inside trump's presser...             0  "
      ]
     },
     "execution_count": 161,
     "metadata": {},
     "output_type": "execute_result"
    }
   ],
   "source": [
    "dataFrame = pd.read_json(\"../Sarcasm-Detector/data/Sarcasm_Headlines_Dataset.json\", lines=True)\n",
    "dataFrame.head(10)"
   ]
  },
  {
   "cell_type": "code",
   "execution_count": 162,
   "metadata": {},
   "outputs": [
    {
     "name": "stderr",
     "output_type": "stream",
     "text": [
      "/Users/ferasdahrooge/opt/anaconda3/lib/python3.9/site-packages/seaborn/_decorators.py:36: FutureWarning: Pass the following variable as a keyword arg: x. From version 0.12, the only valid positional argument will be `data`, and passing other arguments without an explicit keyword will result in an error or misinterpretation.\n",
      "  warnings.warn(\n"
     ]
    },
    {
     "data": {
      "text/plain": [
       "<AxesSubplot:xlabel='is_sarcastic', ylabel='count'>"
      ]
     },
     "execution_count": 162,
     "metadata": {},
     "output_type": "execute_result"
    },
    {
     "data": {
      "image/png": "[encoded data removed]",
      "text/plain": [
       "<Figure size 640x480 with 1 Axes>"
      ]
     },
     "metadata": {},
     "output_type": "display_data"
    }
   ],
   "source": [
    "sns.countplot(dataFrame.is_sarcastic)"
   ]
  },
  {
   "cell_type": "code",
   "execution_count": 163,
   "metadata": {},
   "outputs": [],
   "source": [
    "dataFrame['headline_split'] = dataFrame.headline.apply(lambda x: len(x.split()))"
   ]
  },
  {
   "cell_type": "code",
   "execution_count": 164,
   "metadata": {},
   "outputs": [],
   "source": [
    "sarcastic_data_frame= dataFrame[dataFrame[\"is_sarcastic\"] == 1]\n",
    "serious_sarcastic_data_frame= dataFrame[dataFrame[\"is_sarcastic\"] == 0]"
   ]
  },
  {
   "cell_type": "code",
   "execution_count": 389,
   "metadata": {},
   "outputs": [
    {
     "name": "stderr",
     "output_type": "stream",
     "text": [
      "/Users/ferasdahrooge/opt/anaconda3/lib/python3.9/site-packages/seaborn/distributions.py:2619: FutureWarning: `distplot` is a deprecated function and will be removed in a future version. Please adapt your code to use either `displot` (a figure-level function with similar flexibility) or `histplot` (an axes-level function for histograms).\n",
      "  warnings.warn(msg, FutureWarning)\n",
      "/Users/ferasdahrooge/opt/anaconda3/lib/python3.9/site-packages/seaborn/distributions.py:2619: FutureWarning: `distplot` is a deprecated function and will be removed in a future version. Please adapt your code to use either `displot` (a figure-level function with similar flexibility) or `histplot` (an axes-level function for histograms).\n",
      "  warnings.warn(msg, FutureWarning)\n"
     ]
    },
    {
     "data": {
      "image/png": "[encoded data removed]",
      "text/plain": [
       "<Figure size 800x500 with 1 Axes>"
      ]
     },
     "metadata": {},
     "output_type": "display_data"
    }
   ],
   "source": [
    "dataFrame[\"headline_split\"] = dataFrame.headline.apply(lambda x: len(x.split()))\n",
    "plt.figure(figsize=(8,5))\n",
    "sns.distplot(sarcastic_data_frame.headline_split, hist= True, label= 'Sarcastic' , color = \"red\")\n",
    "sns.distplot(serious_sarcastic_data_frame.headline_split, hist= True, label= 'non-sarcastic' , color = \"green\")\n",
    "plt.legend()\n",
    "plt.title('Length Distribution', fontsize = 10)\n",
    "plt.show()"
   ]
  },
  {
   "cell_type": "markdown",
   "metadata": {},
   "source": [
    "#### Cleaning the Data"
   ]
  },
  {
   "cell_type": "code",
   "execution_count": 166,
   "metadata": {},
   "outputs": [],
   "source": [
    "headline_array = np.array(dataFrame.headline)"
   ]
  },
  {
   "cell_type": "code",
   "execution_count": 167,
   "metadata": {},
   "outputs": [],
   "source": [
    "from nltk.stem.wordnet import WordNetLemmatizer\n",
    "from nltk.corpus import stopwords\n",
    "from nltk.tokenize import word_tokenize\n",
    "import re\n",
    "import string"
   ]
  },
  {
   "cell_type": "code",
   "execution_count": 168,
   "metadata": {},
   "outputs": [],
   "source": [
    "stop_words = stopwords.words('english')\n",
    "punctuation = string.punctuation\n",
    "lemmatizer = WordNetLemmatizer()"
   ]
  },
  {
   "cell_type": "markdown",
   "metadata": {},
   "source": [
    "##### Test of Preprocess a specific text"
   ]
  },
  {
   "cell_type": "code",
   "execution_count": 169,
   "metadata": {},
   "outputs": [
    {
     "data": {
      "text/plain": [
       "['former',\n",
       " 'versace',\n",
       " 'store',\n",
       " 'clerk',\n",
       " 'sue',\n",
       " 'over',\n",
       " 'secret',\n",
       " \"'black\",\n",
       " 'code',\n",
       " \"'\",\n",
       " 'for',\n",
       " 'minority',\n",
       " 'shoppers']"
      ]
     },
     "execution_count": 169,
     "metadata": {},
     "output_type": "execute_result"
    }
   ],
   "source": [
    "word_test = word_tokenize(headline_array[0])\n",
    "word_test = [w.lower() for w in word_test]\n",
    "words = [lemmatizer.lemmatize(word, \"v\") for word in word_test]\n",
    "words"
   ]
  },
  {
   "cell_type": "markdown",
   "metadata": {},
   "source": [
    "##### PreProcess Text\n",
    "\n",
    "- lower case of all texts\n",
    "- remove newline characters\n",
    "- lemmetize "
   ]
  },
  {
   "cell_type": "code",
   "execution_count": 170,
   "metadata": {},
   "outputs": [],
   "source": [
    "def preprocess_text(df, column, new_column):\n",
    "  \"\"\"\n",
    "  Preprocesses texts from a pandas dataFrame into a new column\n",
    "  \"\"\"\n",
    "  # Tokenize the sentences\n",
    "  df[new_column] = df[column].apply(lambda x: x.lower())\n",
    "  df[new_column].apply(lambda x: re.sub(\"\\\\n\", \"\" , x))\n",
    "  df[new_column].apply(lambda x: word_tokenize(x))\n",
    "  # # Remove stop words\n",
    "  df[new_column].apply(lambda x: [lemmatizer.lemmatize(word, pos=\"v\") for word in x])\n",
    "  df[new_column].apply(lambda x: [word for word in x if word not in stop_words])\n",
    "  df[new_column].apply(lambda x: [word for word in x if word not in punctuation])\n",
    "  # # Join the sentences back together\n",
    "  df[new_column].apply(lambda x: \" \".join(x))\n",
    "  return df\n"
   ]
  },
  {
   "cell_type": "code",
   "execution_count": 380,
   "metadata": {},
   "outputs": [],
   "source": [
    "def preprocess_sentence(sentence):\n",
    "  \"\"\"\n",
    "  Preprocesses texts of any sentence by cleaning the text\n",
    "  \"\"\"\n",
    "  sentence = sentence.lower()\n",
    "  # sentence = re.sub(\"count=\\\\n\", \"\", sentence)\n",
    "  sentence = word_tokenize(sentence)\n",
    "  sentence = [lemmatizer.lemmatize(word , pos=\"v\") for word in sentence]\n",
    "  sentence = [word for word in sentence if word not in stop_words]\n",
    "  sentence = [word for word in sentence if word not in punctuation]\n",
    "  sentence = \" \".join(sentence)\n",
    "  return sentence"
   ]
  },
  {
   "cell_type": "code",
   "execution_count": 381,
   "metadata": {},
   "outputs": [
    {
     "data": {
      "text/plain": [
       "'’ say hate ’ say literally monday life'"
      ]
     },
     "execution_count": 381,
     "metadata": {},
     "output_type": "execute_result"
    }
   ],
   "source": [
    "preprocess_sentence(\"I’m not saying I hate you, what I’m saying is that you are literally the Monday of my life\")"
   ]
  },
  {
   "cell_type": "code",
   "execution_count": 171,
   "metadata": {},
   "outputs": [],
   "source": [
    "def preprocessed_headline_split(df , column , new_column):\n",
    "  df[new_column] = df[column].apply(lambda x: len(x.split()))\n",
    "  return df"
   ]
  },
  {
   "cell_type": "code",
   "execution_count": 172,
   "metadata": {},
   "outputs": [],
   "source": [
    "data_adjusted = preprocess_text(dataFrame, 'headline', \"new_headline\")\n",
    "data_preprocessed = preprocessed_headline_split(data_adjusted, \"new_headline\", 'new_headline_split')"
   ]
  },
  {
   "cell_type": "code",
   "execution_count": 173,
   "metadata": {},
   "outputs": [
    {
     "data": {
      "text/html": [
       "<div>\n",
       "<style scoped>\n",
       "    .dataframe tbody tr th:only-of-type {\n",
       "        vertical-align: middle;\n",
       "    }\n",
       "\n",
       "    .dataframe tbody tr th {\n",
       "        vertical-align: top;\n",
       "    }\n",
       "\n",
       "    .dataframe thead th {\n",
       "        text-align: right;\n",
       "    }\n",
       "</style>\n",
       "<table border=\"1\" class=\"dataframe\">\n",
       "  <thead>\n",
       "    <tr style=\"text-align: right;\">\n",
       "      <th></th>\n",
       "      <th>article_link</th>\n",
       "      <th>headline</th>\n",
       "      <th>is_sarcastic</th>\n",
       "      <th>headline_split</th>\n",
       "      <th>new_headline</th>\n",
       "      <th>new_headline_split</th>\n",
       "    </tr>\n",
       "  </thead>\n",
       "  <tbody>\n",
       "    <tr>\n",
       "      <th>0</th>\n",
       "      <td>https://www.huffingtonpost.com/entry/versace-b...</td>\n",
       "      <td>former versace store clerk sues over secret 'b...</td>\n",
       "      <td>0</td>\n",
       "      <td>12</td>\n",
       "      <td>former versace store clerk sues over secret 'b...</td>\n",
       "      <td>12</td>\n",
       "    </tr>\n",
       "    <tr>\n",
       "      <th>1</th>\n",
       "      <td>https://www.huffingtonpost.com/entry/roseanne-...</td>\n",
       "      <td>the 'roseanne' revival catches up to our thorn...</td>\n",
       "      <td>0</td>\n",
       "      <td>14</td>\n",
       "      <td>the 'roseanne' revival catches up to our thorn...</td>\n",
       "      <td>14</td>\n",
       "    </tr>\n",
       "    <tr>\n",
       "      <th>2</th>\n",
       "      <td>https://local.theonion.com/mom-starting-to-fea...</td>\n",
       "      <td>mom starting to fear son's web series closest ...</td>\n",
       "      <td>1</td>\n",
       "      <td>14</td>\n",
       "      <td>mom starting to fear son's web series closest ...</td>\n",
       "      <td>14</td>\n",
       "    </tr>\n",
       "    <tr>\n",
       "      <th>3</th>\n",
       "      <td>https://politics.theonion.com/boehner-just-wan...</td>\n",
       "      <td>boehner just wants wife to listen, not come up...</td>\n",
       "      <td>1</td>\n",
       "      <td>13</td>\n",
       "      <td>boehner just wants wife to listen, not come up...</td>\n",
       "      <td>13</td>\n",
       "    </tr>\n",
       "    <tr>\n",
       "      <th>4</th>\n",
       "      <td>https://www.huffingtonpost.com/entry/jk-rowlin...</td>\n",
       "      <td>j.k. rowling wishes snape happy birthday in th...</td>\n",
       "      <td>0</td>\n",
       "      <td>11</td>\n",
       "      <td>j.k. rowling wishes snape happy birthday in th...</td>\n",
       "      <td>11</td>\n",
       "    </tr>\n",
       "    <tr>\n",
       "      <th>...</th>\n",
       "      <td>...</td>\n",
       "      <td>...</td>\n",
       "      <td>...</td>\n",
       "      <td>...</td>\n",
       "      <td>...</td>\n",
       "      <td>...</td>\n",
       "    </tr>\n",
       "    <tr>\n",
       "      <th>26704</th>\n",
       "      <td>https://www.huffingtonpost.com/entry/american-...</td>\n",
       "      <td>american politics in moral free-fall</td>\n",
       "      <td>0</td>\n",
       "      <td>5</td>\n",
       "      <td>american politics in moral free-fall</td>\n",
       "      <td>5</td>\n",
       "    </tr>\n",
       "    <tr>\n",
       "      <th>26705</th>\n",
       "      <td>https://www.huffingtonpost.com/entry/americas-...</td>\n",
       "      <td>america's best 20 hikes</td>\n",
       "      <td>0</td>\n",
       "      <td>4</td>\n",
       "      <td>america's best 20 hikes</td>\n",
       "      <td>4</td>\n",
       "    </tr>\n",
       "    <tr>\n",
       "      <th>26706</th>\n",
       "      <td>https://www.huffingtonpost.com/entry/reparatio...</td>\n",
       "      <td>reparations and obama</td>\n",
       "      <td>0</td>\n",
       "      <td>3</td>\n",
       "      <td>reparations and obama</td>\n",
       "      <td>3</td>\n",
       "    </tr>\n",
       "    <tr>\n",
       "      <th>26707</th>\n",
       "      <td>https://www.huffingtonpost.com/entry/israeli-b...</td>\n",
       "      <td>israeli ban targeting boycott supporters raise...</td>\n",
       "      <td>0</td>\n",
       "      <td>8</td>\n",
       "      <td>israeli ban targeting boycott supporters raise...</td>\n",
       "      <td>8</td>\n",
       "    </tr>\n",
       "    <tr>\n",
       "      <th>26708</th>\n",
       "      <td>https://www.huffingtonpost.com/entry/gourmet-g...</td>\n",
       "      <td>gourmet gifts for the foodie 2014</td>\n",
       "      <td>0</td>\n",
       "      <td>6</td>\n",
       "      <td>gourmet gifts for the foodie 2014</td>\n",
       "      <td>6</td>\n",
       "    </tr>\n",
       "  </tbody>\n",
       "</table>\n",
       "<p>26709 rows × 6 columns</p>\n",
       "</div>"
      ],
      "text/plain": [
       "                                            article_link  \\\n",
       "0      https://www.huffingtonpost.com/entry/versace-b...   \n",
       "1      https://www.huffingtonpost.com/entry/roseanne-...   \n",
       "2      https://local.theonion.com/mom-starting-to-fea...   \n",
       "3      https://politics.theonion.com/boehner-just-wan...   \n",
       "4      https://www.huffingtonpost.com/entry/jk-rowlin...   \n",
       "...                                                  ...   \n",
       "26704  https://www.huffingtonpost.com/entry/american-...   \n",
       "26705  https://www.huffingtonpost.com/entry/americas-...   \n",
       "26706  https://www.huffingtonpost.com/entry/reparatio...   \n",
       "26707  https://www.huffingtonpost.com/entry/israeli-b...   \n",
       "26708  https://www.huffingtonpost.com/entry/gourmet-g...   \n",
       "\n",
       "                                                headline  is_sarcastic  \\\n",
       "0      former versace store clerk sues over secret 'b...             0   \n",
       "1      the 'roseanne' revival catches up to our thorn...             0   \n",
       "2      mom starting to fear son's web series closest ...             1   \n",
       "3      boehner just wants wife to listen, not come up...             1   \n",
       "4      j.k. rowling wishes snape happy birthday in th...             0   \n",
       "...                                                  ...           ...   \n",
       "26704               american politics in moral free-fall             0   \n",
       "26705                            america's best 20 hikes             0   \n",
       "26706                              reparations and obama             0   \n",
       "26707  israeli ban targeting boycott supporters raise...             0   \n",
       "26708                  gourmet gifts for the foodie 2014             0   \n",
       "\n",
       "       headline_split                                       new_headline  \\\n",
       "0                  12  former versace store clerk sues over secret 'b...   \n",
       "1                  14  the 'roseanne' revival catches up to our thorn...   \n",
       "2                  14  mom starting to fear son's web series closest ...   \n",
       "3                  13  boehner just wants wife to listen, not come up...   \n",
       "4                  11  j.k. rowling wishes snape happy birthday in th...   \n",
       "...               ...                                                ...   \n",
       "26704               5               american politics in moral free-fall   \n",
       "26705               4                            america's best 20 hikes   \n",
       "26706               3                              reparations and obama   \n",
       "26707               8  israeli ban targeting boycott supporters raise...   \n",
       "26708               6                  gourmet gifts for the foodie 2014   \n",
       "\n",
       "       new_headline_split  \n",
       "0                      12  \n",
       "1                      14  \n",
       "2                      14  \n",
       "3                      13  \n",
       "4                      11  \n",
       "...                   ...  \n",
       "26704                   5  \n",
       "26705                   4  \n",
       "26706                   3  \n",
       "26707                   8  \n",
       "26708                   6  \n",
       "\n",
       "[26709 rows x 6 columns]"
      ]
     },
     "execution_count": 173,
     "metadata": {},
     "output_type": "execute_result"
    }
   ],
   "source": [
    "data_preprocessed"
   ]
  },
  {
   "cell_type": "markdown",
   "metadata": {},
   "source": [
    "#### Get Number of Unique Words in preprocessed texts\n",
    "\n",
    "- To Determine the total number of unique words throughout the entire dataset"
   ]
  },
  {
   "cell_type": "code",
   "execution_count": 289,
   "metadata": {},
   "outputs": [
    {
     "data": {
      "text/plain": [
       "36599"
      ]
     },
     "execution_count": 289,
     "metadata": {},
     "output_type": "execute_result"
    }
   ],
   "source": [
    "joined_sentences = \" \".join(data_preprocessed[\"new_headline\"])\n",
    "word_list = joined_sentences.split()\n",
    "unique_words = set(word_list)\n",
    "total_unique_words = len(unique_words)\n",
    "total_unique_words"
   ]
  },
  {
   "cell_type": "markdown",
   "metadata": {},
   "source": [
    "##### Check Average\n",
    "\n",
    "This is just to check the average number of words after preprocessing our data in the dataset for both serious and sarcastic"
   ]
  },
  {
   "cell_type": "code",
   "execution_count": 174,
   "metadata": {},
   "outputs": [
    {
     "data": {
      "text/plain": [
       "is_sarcastic\n",
       "0    9.815616\n",
       "1    9.884425\n",
       "Name: new_headline_split, dtype: float64"
      ]
     },
     "execution_count": 174,
     "metadata": {},
     "output_type": "execute_result"
    }
   ],
   "source": [
    "data_preprocessed.groupby(['is_sarcastic']).new_headline_split.mean()"
   ]
  },
  {
   "cell_type": "markdown",
   "metadata": {},
   "source": [
    "##### Get Largest\n",
    "\n",
    "This is just to check the number of words in our biggest sentence based on what the sentence is labelled as"
   ]
  },
  {
   "cell_type": "code",
   "execution_count": 175,
   "metadata": {},
   "outputs": [
    {
     "data": {
      "text/plain": [
       "is_sarcastic\n",
       "0    38\n",
       "1    39\n",
       "Name: new_headline_split, dtype: int64"
      ]
     },
     "execution_count": 175,
     "metadata": {},
     "output_type": "execute_result"
    }
   ],
   "source": [
    "data_preprocessed.groupby(['is_sarcastic']).new_headline_split.max()"
   ]
  },
  {
   "cell_type": "markdown",
   "metadata": {},
   "source": [
    "#### Splitting the Data\n",
    "\n",
    "- Split Data into 3 ways training validation and testing of 75%/12.5%/12.5%"
   ]
  },
  {
   "cell_type": "code",
   "execution_count": 255,
   "metadata": {},
   "outputs": [],
   "source": [
    "def get_dataset_partitions_pd(df, train_split=0.75, val_split=0.125, test_split=0.125):\n",
    "  # assert the sum of all the data split = 1\n",
    "  assert(train_split + val_split + test_split) == 1\n",
    "  # assert for equal splitting for both validation and testing\n",
    "  assert(val_split == test_split)\n",
    "\n",
    "  #Split the Data\n",
    "  df_sample = df.sample(frac = 1 , random_state = 42)\n",
    "  \n",
    "  train_df = df_sample.sample(frac = train_split, random_state = 42)\n",
    "  val_df = df_sample.sample(frac = val_split, random_state = 42)\n",
    "  test_df = df_sample.sample(frac = test_split, random_state = 42)\n",
    "  # return train, val, test dataframes\n",
    "  return train_df, val_df, test_df"
   ]
  },
  {
   "cell_type": "code",
   "execution_count": 256,
   "metadata": {},
   "outputs": [],
   "source": [
    "train_ds , val_ds , test_ds  = get_dataset_partitions_pd(data_preprocessed) "
   ]
  },
  {
   "cell_type": "code",
   "execution_count": 374,
   "metadata": {},
   "outputs": [
    {
     "data": {
      "text/plain": [
       "'stevie nicks dancing alone on beach under full moon'"
      ]
     },
     "execution_count": 374,
     "metadata": {},
     "output_type": "execute_result"
    }
   ],
   "source": [
    "test_ds.iloc[2].new_headline"
   ]
  },
  {
   "cell_type": "code",
   "execution_count": 257,
   "metadata": {},
   "outputs": [
    {
     "data": {
      "text/plain": [
       "is_sarcastic\n",
       "0    1849\n",
       "1    1490\n",
       "Name: new_headline_split, dtype: int64"
      ]
     },
     "execution_count": 257,
     "metadata": {},
     "output_type": "execute_result"
    }
   ],
   "source": [
    "val_ds.groupby([\"is_sarcastic\"]).new_headline_split.count()"
   ]
  },
  {
   "cell_type": "code",
   "execution_count": 258,
   "metadata": {},
   "outputs": [
    {
     "data": {
      "text/plain": [
       "is_sarcastic\n",
       "0    1849\n",
       "1    1490\n",
       "Name: new_headline_split, dtype: int64"
      ]
     },
     "execution_count": 258,
     "metadata": {},
     "output_type": "execute_result"
    }
   ],
   "source": [
    "test_ds.groupby([\"is_sarcastic\"]).new_headline_split.count()"
   ]
  },
  {
   "cell_type": "code",
   "execution_count": 259,
   "metadata": {},
   "outputs": [
    {
     "data": {
      "text/plain": [
       "is_sarcastic\n",
       "0    11225\n",
       "1     8807\n",
       "Name: new_headline_split, dtype: int64"
      ]
     },
     "execution_count": 259,
     "metadata": {},
     "output_type": "execute_result"
    }
   ],
   "source": [
    "train_ds.groupby([\"is_sarcastic\"]).new_headline_split.count()"
   ]
  },
  {
   "cell_type": "markdown",
   "metadata": {},
   "source": [
    "#### Convert Text into series of Tokens\n",
    "\n",
    "- More of hypertuning the text before training our models"
   ]
  },
  {
   "cell_type": "code",
   "execution_count": 278,
   "metadata": {},
   "outputs": [],
   "source": [
    "from tensorflow.keras.preprocessing.text import Tokenizer\n",
    "from tensorflow.keras.preprocessing.sequence import pad_sequences\n",
    "from tensorflow.keras.callbacks import ReduceLROnPlateau "
   ]
  },
  {
   "cell_type": "code",
   "execution_count": 291,
   "metadata": {},
   "outputs": [],
   "source": [
    "max_words = total_unique_words\n",
    "oov_token = '<00V>'\n",
    "batch_size = 64"
   ]
  },
  {
   "cell_type": "code",
   "execution_count": 292,
   "metadata": {},
   "outputs": [],
   "source": [
    "tokenizer = Tokenizer(num_words=max_words , oov_token= oov_token)\n",
    "tokenizer.fit_on_texts(train_ds.new_headline)\n",
    "word_index = tokenizer.word_index"
   ]
  },
  {
   "cell_type": "markdown",
   "metadata": {},
   "source": [
    "##### Hypertune the 3 datasets"
   ]
  },
  {
   "cell_type": "code",
   "execution_count": 293,
   "metadata": {},
   "outputs": [],
   "source": [
    "def convert_text_to_values_from_column(ds , column , max_length = 100, padding_type = \"post\" , trunc_type = \"post\"):\n",
    "  \"\"\"\n",
    "  converts texts into a sequence of numbers\n",
    "  \"\"\"\n",
    "  sequences = tokenizer.texts_to_sequences(ds[column])\n",
    "  sequences = pad_sequences(sequences, maxlen=max_length, padding=padding_type, truncating=trunc_type)\n",
    "  return sequences"
   ]
  },
  {
   "cell_type": "code",
   "execution_count": 294,
   "metadata": {},
   "outputs": [],
   "source": [
    "train_sequences = convert_text_to_values_from_column(train_ds , \"new_headline\")\n",
    "val_sequences = convert_text_to_values_from_column(val_ds , \"new_headline\")\n",
    "test_sequences = convert_text_to_values_from_column(test_ds , \"new_headline\")"
   ]
  },
  {
   "cell_type": "code",
   "execution_count": 295,
   "metadata": {},
   "outputs": [
    {
     "data": {
      "text/plain": [
       "array([[ 5672,   567,  4836, ...,     0,     0,     0],\n",
       "       [ 1152,    28,    56, ...,     0,     0,     0],\n",
       "       [ 5676,  6923,  2278, ...,     0,     0,     0],\n",
       "       ...,\n",
       "       [   95,  1979,  4454, ...,     0,     0,     0],\n",
       "       [25640,     3,  8694, ...,     0,     0,     0],\n",
       "       [  889,  1056,   993, ...,     0,     0,     0]], dtype=int32)"
      ]
     },
     "execution_count": 295,
     "metadata": {},
     "output_type": "execute_result"
    }
   ],
   "source": [
    "train_sequences"
   ]
  },
  {
   "cell_type": "code",
   "execution_count": 296,
   "metadata": {},
   "outputs": [
    {
     "data": {
      "text/plain": [
       "array([[ 5672,   567,  4836, ...,     0,     0,     0],\n",
       "       [ 1152,    28,    56, ...,     0,     0,     0],\n",
       "       [ 5676,  6923,  2278, ...,     0,     0,     0],\n",
       "       ...,\n",
       "       [14930, 14931,  2240, ...,     0,     0,     0],\n",
       "       [ 1880,  7070,  1558, ...,     0,     0,     0],\n",
       "       [14932, 14933,  1443, ...,     0,     0,     0]], dtype=int32)"
      ]
     },
     "execution_count": 296,
     "metadata": {},
     "output_type": "execute_result"
    }
   ],
   "source": [
    "val_sequences"
   ]
  },
  {
   "cell_type": "code",
   "execution_count": 297,
   "metadata": {},
   "outputs": [
    {
     "data": {
      "text/plain": [
       "array([[ 5672,   567,  4836, ...,     0,     0,     0],\n",
       "       [ 1152,    28,    56, ...,     0,     0,     0],\n",
       "       [ 5676,  6923,  2278, ...,     0,     0,     0],\n",
       "       ...,\n",
       "       [14930, 14931,  2240, ...,     0,     0,     0],\n",
       "       [ 1880,  7070,  1558, ...,     0,     0,     0],\n",
       "       [14932, 14933,  1443, ...,     0,     0,     0]], dtype=int32)"
      ]
     },
     "execution_count": 297,
     "metadata": {},
     "output_type": "execute_result"
    }
   ],
   "source": [
    "test_sequences"
   ]
  },
  {
   "cell_type": "markdown",
   "metadata": {},
   "source": [
    "#### Build a series of Models\n",
    "\n",
    "- Determine which model is best\n",
    "  - LSTM with Embedding Layer"
   ]
  },
  {
   "cell_type": "code",
   "execution_count": 408,
   "metadata": {},
   "outputs": [],
   "source": [
    "from tensorflow.keras.callbacks import ReduceLROnPlateau "
   ]
  },
  {
   "cell_type": "code",
   "execution_count": 409,
   "metadata": {},
   "outputs": [
    {
     "name": "stdout",
     "output_type": "stream",
     "text": [
      "Model: \"sequential_5\"\n",
      "_________________________________________________________________\n",
      " Layer (type)                Output Shape              Param #   \n",
      "=================================================================\n",
      " embedding_6 (Embedding)     (None, 100, 64)           2342400   \n",
      "                                                                 \n",
      " bidirectional_6 (Bidirectio  (None, 128)              66048     \n",
      " nal)                                                            \n",
      "                                                                 \n",
      " dense_10 (Dense)            (None, 64)                8256      \n",
      "                                                                 \n",
      " dense_11 (Dense)            (None, 1)                 65        \n",
      "                                                                 \n",
      "=================================================================\n",
      "Total params: 2,416,769\n",
      "Trainable params: 2,416,769\n",
      "Non-trainable params: 0\n",
      "_________________________________________________________________\n"
     ]
    }
   ],
   "source": [
    "model = tf.keras.Sequential([\n",
    "  tf.keras.layers.Embedding(max_words+ 1, batch_size , input_length=max_length),\n",
    "  tf.keras.layers.Bidirectional(tf.keras.layers.LSTM(64)),\n",
    "  tf.keras.layers.Dense(64, activation='relu'),\n",
    "  tf.keras.layers.Dense(1, activation='sigmoid')\n",
    "])\n",
    "rlrp = ReduceLROnPlateau(monitor='val_loss', factor=0.1, patience=2)\n",
    "model.compile(loss='binary_crossentropy',optimizer='adam',metrics=['accuracy'])\n",
    "model.summary()"
   ]
  },
  {
   "cell_type": "code",
   "execution_count": 410,
   "metadata": {},
   "outputs": [
    {
     "name": "stdout",
     "output_type": "stream",
     "text": [
      "Epoch 1/10\n",
      "WARNING:tensorflow:AutoGraph could not transform <function Model.make_train_function.<locals>.train_function at 0x7f9152889c10> and will run it as-is.\n",
      "Please report this to the TensorFlow team. When filing the bug, set the verbosity to 10 (on Linux, `export AUTOGRAPH_VERBOSITY=10`) and attach the full output.\n",
      "Cause: closure mismatch, requested ('self', 'step_function'), but source function had ('self',)\n",
      "To silence this warning, decorate the function with @tf.autograph.experimental.do_not_convert\n",
      "WARNING: AutoGraph could not transform <function Model.make_train_function.<locals>.train_function at 0x7f9152889c10> and will run it as-is.\n",
      "Please report this to the TensorFlow team. When filing the bug, set the verbosity to 10 (on Linux, `export AUTOGRAPH_VERBOSITY=10`) and attach the full output.\n",
      "Cause: closure mismatch, requested ('self', 'step_function'), but source function had ('self',)\n",
      "To silence this warning, decorate the function with @tf.autograph.experimental.do_not_convert\n",
      "626/626 [==============================] - ETA: 0s - loss: 0.3887 - accuracy: 0.8142WARNING:tensorflow:AutoGraph could not transform <function Model.make_test_function.<locals>.test_function at 0x7f91555013a0> and will run it as-is.\n",
      "Please report this to the TensorFlow team. When filing the bug, set the verbosity to 10 (on Linux, `export AUTOGRAPH_VERBOSITY=10`) and attach the full output.\n",
      "Cause: closure mismatch, requested ('self', 'step_function'), but source function had ()\n",
      "To silence this warning, decorate the function with @tf.autograph.experimental.do_not_convert\n",
      "WARNING: AutoGraph could not transform <function Model.make_test_function.<locals>.test_function at 0x7f91555013a0> and will run it as-is.\n",
      "Please report this to the TensorFlow team. When filing the bug, set the verbosity to 10 (on Linux, `export AUTOGRAPH_VERBOSITY=10`) and attach the full output.\n",
      "Cause: closure mismatch, requested ('self', 'step_function'), but source function had ()\n",
      "To silence this warning, decorate the function with @tf.autograph.experimental.do_not_convert\n",
      "626/626 [==============================] - 36s 54ms/step - loss: 0.3887 - accuracy: 0.8142 - val_loss: 0.1713 - val_accuracy: 0.9461 - lr: 0.0010\n",
      "Epoch 2/10\n",
      "626/626 [==============================] - 33s 53ms/step - loss: 0.1514 - accuracy: 0.9424 - val_loss: 0.0648 - val_accuracy: 0.9847 - lr: 0.0010\n",
      "Epoch 3/10\n",
      "626/626 [==============================] - 33s 53ms/step - loss: 0.0511 - accuracy: 0.9831 - val_loss: 0.0212 - val_accuracy: 0.9952 - lr: 0.0010\n",
      "Epoch 4/10\n",
      "626/626 [==============================] - 34s 54ms/step - loss: 0.0220 - accuracy: 0.9929 - val_loss: 0.0097 - val_accuracy: 0.9979 - lr: 0.0010\n",
      "Epoch 5/10\n",
      "626/626 [==============================] - 34s 54ms/step - loss: 0.0105 - accuracy: 0.9965 - val_loss: 0.0051 - val_accuracy: 0.9988 - lr: 0.0010\n",
      "Epoch 6/10\n",
      "626/626 [==============================] - 34s 54ms/step - loss: 0.0065 - accuracy: 0.9977 - val_loss: 0.0057 - val_accuracy: 0.9985 - lr: 0.0010\n",
      "Epoch 7/10\n",
      "626/626 [==============================] - 34s 54ms/step - loss: 0.0039 - accuracy: 0.9989 - val_loss: 0.0039 - val_accuracy: 0.9991 - lr: 0.0010\n",
      "Epoch 8/10\n",
      "626/626 [==============================] - 34s 54ms/step - loss: 0.0040 - accuracy: 0.9986 - val_loss: 0.0257 - val_accuracy: 0.9916 - lr: 0.0010\n",
      "Epoch 9/10\n",
      "626/626 [==============================] - 34s 54ms/step - loss: 0.0070 - accuracy: 0.9976 - val_loss: 0.0034 - val_accuracy: 0.9994 - lr: 0.0010\n",
      "Epoch 10/10\n",
      "626/626 [==============================] - 33s 53ms/step - loss: 0.0037 - accuracy: 0.9990 - val_loss: 9.2825e-04 - val_accuracy: 0.9997 - lr: 0.0010\n"
     ]
    }
   ],
   "source": [
    "history = model.fit(train_sequences, train_ds.is_sarcastic, batch_size=32, epochs=10, \n",
    "                    validation_data=(val_sequences, val_ds.is_sarcastic), \n",
    "                    callbacks=[rlrp] ,verbose=1)"
   ]
  },
  {
   "cell_type": "code",
   "execution_count": 425,
   "metadata": {},
   "outputs": [
    {
     "name": "stdout",
     "output_type": "stream",
     "text": [
      "105/105 [==============================] - 1s 10ms/step - loss: 9.2825e-04 - accuracy: 0.9997\n",
      "Test Loss:  0.0009282530518248677\n",
      "Test Accuracy 0.9997004866600037\n",
      "dict_keys(['loss', 'accuracy', 'val_loss', 'val_accuracy', 'lr'])\n"
     ]
    },
    {
     "data": {
      "image/png": "[encoded data removed]",
      "text/plain": [
       "<Figure size 640x480 with 1 Axes>"
      ]
     },
     "metadata": {},
     "output_type": "display_data"
    },
    {
     "data": {
      "image/png": "[encoded data removed]",
      "text/plain": [
       "<Figure size 640x480 with 1 Axes>"
      ]
     },
     "metadata": {},
     "output_type": "display_data"
    }
   ],
   "source": [
    "score = model.evaluate(test_sequences, test_ds.is_sarcastic)\n",
    "print('Test Loss: ', score[0])\n",
    "print('Test Accuracy', score[1])\n",
    "\n",
    "\n",
    "# list all data in history\n",
    "print(history.history.keys())\n",
    "# summarize history for accuracy\n",
    "plt.plot(history.history['accuracy'])\n",
    "plt.plot(history.history['val_accuracy'])\n",
    "plt.title('Model Accuracy')\n",
    "plt.ylabel('accuracy')\n",
    "plt.xlabel('epoch')\n",
    "plt.legend(['train', 'validation'], loc='upper left')\n",
    "plt.show()\n",
    "# summarize history for loss\n",
    "plt.plot(history.history['loss'])\n",
    "plt.plot(history.history['val_loss'])\n",
    "plt.title('Model Loss')\n",
    "plt.ylabel('loss')\n",
    "plt.xlabel('epoch')\n",
    "plt.legend(['train', 'validation'], loc='upper left')\n",
    "plt.show()"
   ]
  },
  {
   "cell_type": "markdown",
   "metadata": {},
   "source": [
    "It seems that this model had achieved a high accuracy, almost perfect which is interesting"
   ]
  },
  {
   "cell_type": "code",
   "execution_count": 417,
   "metadata": {},
   "outputs": [
    {
     "name": "stdout",
     "output_type": "stream",
     "text": [
      "105/105 [==============================] - 2s 15ms/step\n"
     ]
    }
   ],
   "source": [
    "prediction_model_bidir_large_unit = model.predict(test_sequences)"
   ]
  },
  {
   "cell_type": "code",
   "execution_count": 414,
   "metadata": {},
   "outputs": [
    {
     "name": "stdout",
     "output_type": "stream",
     "text": [
      "Model: \"sequential_6\"\n",
      "_________________________________________________________________\n",
      " Layer (type)                Output Shape              Param #   \n",
      "=================================================================\n",
      " embedding_7 (Embedding)     (None, 100, 64)           2342336   \n",
      "                                                                 \n",
      " bidirectional_7 (Bidirectio  (None, 100, 64)          24832     \n",
      " nal)                                                            \n",
      "                                                                 \n",
      " global_max_pooling1d_3 (Glo  (None, 64)               0         \n",
      " balMaxPooling1D)                                                \n",
      "                                                                 \n",
      " dense_12 (Dense)            (None, 16)                1040      \n",
      "                                                                 \n",
      " dropout_3 (Dropout)         (None, 16)                0         \n",
      "                                                                 \n",
      " dense_13 (Dense)            (None, 1)                 17        \n",
      "                                                                 \n",
      "=================================================================\n",
      "Total params: 2,368,225\n",
      "Trainable params: 2,368,225\n",
      "Non-trainable params: 0\n",
      "_________________________________________________________________\n"
     ]
    }
   ],
   "source": [
    "# Model 2\n",
    "model_bidir_smaller_units = tf.keras.Sequential([\n",
    "  tf.keras.layers.Embedding(max_words, batch_size,input_length = max_length),\n",
    "  tf.keras.layers.Bidirectional(tf.keras.layers.LSTM(units = 32, return_sequences = True)),  \n",
    "  tf.keras.layers.GlobalMaxPool1D(),\n",
    "  tf.keras.layers.Dense(16, activation = 'relu'),\n",
    "  tf.keras.layers.Dropout(0.2),\n",
    "  tf.keras.layers.Dense(1, activation = 'sigmoid'),\n",
    "])\n",
    "rlrp = ReduceLROnPlateau(monitor='val_loss', factor=0.1, patience=2)\n",
    "model_bidir_smaller_units.compile(loss='binary_crossentropy',optimizer='adam',metrics=['accuracy'])\n",
    "model_bidir_smaller_units.summary()"
   ]
  },
  {
   "cell_type": "code",
   "execution_count": 415,
   "metadata": {},
   "outputs": [
    {
     "name": "stdout",
     "output_type": "stream",
     "text": [
      "Epoch 1/6\n",
      "WARNING:tensorflow:AutoGraph could not transform <function Model.make_train_function.<locals>.train_function at 0x7f9146080dc0> and will run it as-is.\n",
      "Please report this to the TensorFlow team. When filing the bug, set the verbosity to 10 (on Linux, `export AUTOGRAPH_VERBOSITY=10`) and attach the full output.\n",
      "Cause: closure mismatch, requested ('self', 'step_function'), but source function had ('self',)\n",
      "To silence this warning, decorate the function with @tf.autograph.experimental.do_not_convert\n",
      "WARNING: AutoGraph could not transform <function Model.make_train_function.<locals>.train_function at 0x7f9146080dc0> and will run it as-is.\n",
      "Please report this to the TensorFlow team. When filing the bug, set the verbosity to 10 (on Linux, `export AUTOGRAPH_VERBOSITY=10`) and attach the full output.\n",
      "Cause: closure mismatch, requested ('self', 'step_function'), but source function had ('self',)\n",
      "To silence this warning, decorate the function with @tf.autograph.experimental.do_not_convert\n",
      "626/626 [==============================] - ETA: 0s - loss: 0.4470 - accuracy: 0.7886WARNING:tensorflow:AutoGraph could not transform <function Model.make_test_function.<locals>.test_function at 0x7f91460578b0> and will run it as-is.\n",
      "Please report this to the TensorFlow team. When filing the bug, set the verbosity to 10 (on Linux, `export AUTOGRAPH_VERBOSITY=10`) and attach the full output.\n",
      "Cause: closure mismatch, requested ('self', 'step_function'), but source function had ()\n",
      "To silence this warning, decorate the function with @tf.autograph.experimental.do_not_convert\n",
      "WARNING: AutoGraph could not transform <function Model.make_test_function.<locals>.test_function at 0x7f91460578b0> and will run it as-is.\n",
      "Please report this to the TensorFlow team. When filing the bug, set the verbosity to 10 (on Linux, `export AUTOGRAPH_VERBOSITY=10`) and attach the full output.\n",
      "Cause: closure mismatch, requested ('self', 'step_function'), but source function had ()\n",
      "To silence this warning, decorate the function with @tf.autograph.experimental.do_not_convert\n",
      "626/626 [==============================] - 34s 50ms/step - loss: 0.4470 - accuracy: 0.7886 - val_loss: 0.1754 - val_accuracy: 0.9356 - lr: 0.0010\n",
      "Epoch 2/6\n",
      "626/626 [==============================] - 29s 46ms/step - loss: 0.1974 - accuracy: 0.9294 - val_loss: 0.0818 - val_accuracy: 0.9763 - lr: 0.0010\n",
      "Epoch 3/6\n",
      "626/626 [==============================] - 29s 47ms/step - loss: 0.0793 - accuracy: 0.9737 - val_loss: 0.0282 - val_accuracy: 0.9943 - lr: 0.0010\n",
      "Epoch 4/6\n",
      "626/626 [==============================] - 33s 52ms/step - loss: 0.0330 - accuracy: 0.9908 - val_loss: 0.0076 - val_accuracy: 0.9985 - lr: 0.0010\n",
      "Epoch 5/6\n",
      "626/626 [==============================] - 34s 54ms/step - loss: 0.0150 - accuracy: 0.9956 - val_loss: 0.0075 - val_accuracy: 0.9979 - lr: 0.0010\n",
      "Epoch 6/6\n",
      "626/626 [==============================] - 32s 52ms/step - loss: 0.0113 - accuracy: 0.9967 - val_loss: 0.0054 - val_accuracy: 0.9985 - lr: 0.0010\n"
     ]
    }
   ],
   "source": [
    "history_bidir = model_bidir_smaller_units.fit(train_sequences, train_ds.is_sarcastic, batch_size=32, epochs=6 , \n",
    "                    validation_data=(val_sequences, val_ds.is_sarcastic),\n",
    "                    callbacks=[rlrp] ,verbose=1)"
   ]
  },
  {
   "cell_type": "code",
   "execution_count": 426,
   "metadata": {},
   "outputs": [
    {
     "name": "stdout",
     "output_type": "stream",
     "text": [
      "105/105 [==============================] - 1s 9ms/step - loss: 0.0054 - accuracy: 0.9985\n",
      "Test Loss:  0.005397958215326071\n",
      "Test Accuracy 0.9985025525093079\n",
      "dict_keys(['loss', 'accuracy', 'val_loss', 'val_accuracy', 'lr'])\n"
     ]
    },
    {
     "data": {
      "image/png": "[encoded data removed]",
      "text/plain": [
       "<Figure size 640x480 with 1 Axes>"
      ]
     },
     "metadata": {},
     "output_type": "display_data"
    },
    {
     "data": {
      "image/png": "[encoded data removed]",
      "text/plain": [
       "<Figure size 640x480 with 1 Axes>"
      ]
     },
     "metadata": {},
     "output_type": "display_data"
    }
   ],
   "source": [
    "score = model_bidir_smaller_units.evaluate(test_sequences, test_ds.is_sarcastic)\n",
    "print('Test Loss: ', score[0])\n",
    "print('Test Accuracy', score[1])\n",
    "\n",
    "\n",
    "# list all data in history\n",
    "print(history_bidir.history.keys())\n",
    "# summarize history for accuracy\n",
    "plt.plot(history_bidir.history['accuracy'])\n",
    "plt.plot(history_bidir.history['val_accuracy'])\n",
    "plt.title('Model Accuracy')\n",
    "plt.ylabel('accuracy')\n",
    "plt.xlabel('epoch')\n",
    "plt.legend(['train', 'validation'], loc='upper left')\n",
    "plt.show()\n",
    "# summarize history for loss\n",
    "plt.plot(history_bidir.history['loss'])\n",
    "plt.plot(history_bidir.history['val_loss'])\n",
    "plt.title('Model Loss')\n",
    "plt.ylabel('loss')\n",
    "plt.xlabel('epoch')\n",
    "plt.legend(['train', 'validation'], loc='upper left')\n",
    "plt.show()"
   ]
  },
  {
   "cell_type": "code",
   "execution_count": 418,
   "metadata": {},
   "outputs": [
    {
     "name": "stdout",
     "output_type": "stream",
     "text": [
      "WARNING:tensorflow:AutoGraph could not transform <function Model.make_predict_function.<locals>.predict_function at 0x7f91314879d0> and will run it as-is.\n",
      "Please report this to the TensorFlow team. When filing the bug, set the verbosity to 10 (on Linux, `export AUTOGRAPH_VERBOSITY=10`) and attach the full output.\n",
      "Cause: closure mismatch, requested ('self', 'step_function'), but source function had ()\n",
      "To silence this warning, decorate the function with @tf.autograph.experimental.do_not_convert\n",
      "WARNING: AutoGraph could not transform <function Model.make_predict_function.<locals>.predict_function at 0x7f91314879d0> and will run it as-is.\n",
      "Please report this to the TensorFlow team. When filing the bug, set the verbosity to 10 (on Linux, `export AUTOGRAPH_VERBOSITY=10`) and attach the full output.\n",
      "Cause: closure mismatch, requested ('self', 'step_function'), but source function had ()\n",
      "To silence this warning, decorate the function with @tf.autograph.experimental.do_not_convert\n",
      "105/105 [==============================] - 2s 13ms/step\n"
     ]
    }
   ],
   "source": [
    "prediction_model_bidir_smaller_unit = model_bidir_smaller_units.predict(test_sequences)"
   ]
  },
  {
   "cell_type": "markdown",
   "metadata": {},
   "source": [
    "#### GRU Model (Gated Recurrent Unit)"
   ]
  },
  {
   "cell_type": "code",
   "execution_count": 422,
   "metadata": {},
   "outputs": [
    {
     "name": "stdout",
     "output_type": "stream",
     "text": [
      "Model: \"sequential_8\"\n",
      "_________________________________________________________________\n",
      " Layer (type)                Output Shape              Param #   \n",
      "=================================================================\n",
      " embedding_9 (Embedding)     (None, 100, 64)           6400000   \n",
      "                                                                 \n",
      " gru_1 (GRU)                 (None, 100, 64)           24960     \n",
      "                                                                 \n",
      " global_max_pooling1d_5 (Glo  (None, 64)               0         \n",
      " balMaxPooling1D)                                                \n",
      "                                                                 \n",
      " dense_16 (Dense)            (None, 16)                1040      \n",
      "                                                                 \n",
      " dropout_5 (Dropout)         (None, 16)                0         \n",
      "                                                                 \n",
      " dense_17 (Dense)            (None, 1)                 17        \n",
      "                                                                 \n",
      "=================================================================\n",
      "Total params: 6,426,017\n",
      "Trainable params: 6,426,017\n",
      "Non-trainable params: 0\n",
      "_________________________________________________________________\n"
     ]
    }
   ],
   "source": [
    "# Model-3\n",
    "model_gru = tf.keras.Sequential([\n",
    "  tf.keras.layers.Embedding(max_features, 64, input_length=max_length),\n",
    "  tf.keras.layers.GRU(64 , dropout= 0.25 , recurrent_dropout= 0.25 , return_sequences= True),\n",
    "  tf.keras.layers.GlobalMaxPool1D(),\n",
    "  tf.keras.layers.Dense(16, activation = \"relu\"),\n",
    "  tf.keras.layers.Dropout(0.2),\n",
    "  tf.keras.layers.Dense(1, activation='sigmoid')\n",
    "])\n",
    "\n",
    "rlrp = ReduceLROnPlateau(monitor='val_loss', factor=0.1, patience=2)\n",
    "model_gru.compile(loss='binary_crossentropy', optimizer='adam', metrics=['accuracy'])\n",
    "model_gru.summary()"
   ]
  },
  {
   "cell_type": "code",
   "execution_count": 423,
   "metadata": {},
   "outputs": [
    {
     "name": "stdout",
     "output_type": "stream",
     "text": [
      "Epoch 1/6\n",
      "WARNING:tensorflow:AutoGraph could not transform <function Model.make_train_function.<locals>.train_function at 0x7f91335b9f70> and will run it as-is.\n",
      "Please report this to the TensorFlow team. When filing the bug, set the verbosity to 10 (on Linux, `export AUTOGRAPH_VERBOSITY=10`) and attach the full output.\n",
      "Cause: closure mismatch, requested ('self', 'step_function'), but source function had ('self',)\n",
      "To silence this warning, decorate the function with @tf.autograph.experimental.do_not_convert\n",
      "WARNING: AutoGraph could not transform <function Model.make_train_function.<locals>.train_function at 0x7f91335b9f70> and will run it as-is.\n",
      "Please report this to the TensorFlow team. When filing the bug, set the verbosity to 10 (on Linux, `export AUTOGRAPH_VERBOSITY=10`) and attach the full output.\n",
      "Cause: closure mismatch, requested ('self', 'step_function'), but source function had ('self',)\n",
      "To silence this warning, decorate the function with @tf.autograph.experimental.do_not_convert\n",
      "313/313 [==============================] - ETA: 0s - loss: 0.4916 - accuracy: 0.7498WARNING:tensorflow:AutoGraph could not transform <function Model.make_test_function.<locals>.test_function at 0x7f9131c799d0> and will run it as-is.\n",
      "Please report this to the TensorFlow team. When filing the bug, set the verbosity to 10 (on Linux, `export AUTOGRAPH_VERBOSITY=10`) and attach the full output.\n",
      "Cause: closure mismatch, requested ('self', 'step_function'), but source function had ()\n",
      "To silence this warning, decorate the function with @tf.autograph.experimental.do_not_convert\n",
      "WARNING: AutoGraph could not transform <function Model.make_test_function.<locals>.test_function at 0x7f9131c799d0> and will run it as-is.\n",
      "Please report this to the TensorFlow team. When filing the bug, set the verbosity to 10 (on Linux, `export AUTOGRAPH_VERBOSITY=10`) and attach the full output.\n",
      "Cause: closure mismatch, requested ('self', 'step_function'), but source function had ()\n",
      "To silence this warning, decorate the function with @tf.autograph.experimental.do_not_convert\n",
      "313/313 [==============================] - 37s 111ms/step - loss: 0.4916 - accuracy: 0.7498 - val_loss: 0.2465 - val_accuracy: 0.9149 - lr: 0.0010\n",
      "Epoch 2/6\n",
      "313/313 [==============================] - 35s 111ms/step - loss: 0.2393 - accuracy: 0.9103 - val_loss: 0.1167 - val_accuracy: 0.9662 - lr: 0.0010\n",
      "Epoch 3/6\n",
      "313/313 [==============================] - 35s 111ms/step - loss: 0.1255 - accuracy: 0.9568 - val_loss: 0.0586 - val_accuracy: 0.9817 - lr: 0.0010\n",
      "Epoch 4/6\n",
      "313/313 [==============================] - 35s 112ms/step - loss: 0.0707 - accuracy: 0.9770 - val_loss: 0.0340 - val_accuracy: 0.9922 - lr: 0.0010\n",
      "Epoch 5/6\n",
      "313/313 [==============================] - 35s 112ms/step - loss: 0.0426 - accuracy: 0.9870 - val_loss: 0.0198 - val_accuracy: 0.9952 - lr: 0.0010\n",
      "Epoch 6/6\n",
      "313/313 [==============================] - 35s 112ms/step - loss: 0.0305 - accuracy: 0.9909 - val_loss: 0.0107 - val_accuracy: 0.9982 - lr: 0.0010\n"
     ]
    }
   ],
   "source": [
    "history_gru = model_gru.fit(train_sequences, train_ds.is_sarcastic, batch_size=64, epochs=6, \n",
    "                    validation_data=(val_sequences , val_ds.is_sarcastic), \n",
    "                    callbacks=[rlrp] ,verbose=1)"
   ]
  },
  {
   "cell_type": "code",
   "execution_count": 427,
   "metadata": {},
   "outputs": [
    {
     "name": "stdout",
     "output_type": "stream",
     "text": [
      "105/105 [==============================] - 1s 8ms/step - loss: 0.0107 - accuracy: 0.9982\n",
      "Test Loss:  0.010681153275072575\n",
      "Test Accuracy 0.9982030391693115\n",
      "dict_keys(['loss', 'accuracy', 'val_loss', 'val_accuracy', 'lr'])\n"
     ]
    },
    {
     "data": {
      "image/png": "[encoded data removed]",
      "text/plain": [
       "<Figure size 640x480 with 1 Axes>"
      ]
     },
     "metadata": {},
     "output_type": "display_data"
    },
    {
     "data": {
      "image/png": "[encoded data removed]",
      "text/plain": [
       "<Figure size 640x480 with 1 Axes>"
      ]
     },
     "metadata": {},
     "output_type": "display_data"
    }
   ],
   "source": [
    "score = model_gru.evaluate(test_sequences, test_ds.is_sarcastic)\n",
    "print('Test Loss: ', score[0])\n",
    "print('Test Accuracy', score[1])\n",
    "\n",
    "\n",
    "# list all data in history\n",
    "print(history_gru.history.keys())\n",
    "# summarize history for accuracy\n",
    "plt.plot(history_gru.history['accuracy'])\n",
    "plt.plot(history_gru.history['val_accuracy'])\n",
    "plt.title('Model Accuracy')\n",
    "plt.ylabel('accuracy')\n",
    "plt.xlabel('epoch')\n",
    "plt.legend(['train', 'validation'], loc='upper left')\n",
    "plt.show()\n",
    "# summarize history for loss\n",
    "plt.plot(history_bidir.history['loss'])\n",
    "plt.plot(history_bidir.history['val_loss'])\n",
    "plt.title('Model Loss')\n",
    "plt.ylabel('loss')\n",
    "plt.xlabel('epoch')\n",
    "plt.legend(['train', 'validation'], loc='upper left')\n",
    "plt.show()"
   ]
  },
  {
   "cell_type": "code",
   "execution_count": 428,
   "metadata": {},
   "outputs": [
    {
     "name": "stdout",
     "output_type": "stream",
     "text": [
      "WARNING:tensorflow:AutoGraph could not transform <function Model.make_predict_function.<locals>.predict_function at 0x7f9146054790> and will run it as-is.\n",
      "Please report this to the TensorFlow team. When filing the bug, set the verbosity to 10 (on Linux, `export AUTOGRAPH_VERBOSITY=10`) and attach the full output.\n",
      "Cause: closure mismatch, requested ('self', 'step_function'), but source function had ()\n",
      "To silence this warning, decorate the function with @tf.autograph.experimental.do_not_convert\n",
      "WARNING: AutoGraph could not transform <function Model.make_predict_function.<locals>.predict_function at 0x7f9146054790> and will run it as-is.\n",
      "Please report this to the TensorFlow team. When filing the bug, set the verbosity to 10 (on Linux, `export AUTOGRAPH_VERBOSITY=10`) and attach the full output.\n",
      "Cause: closure mismatch, requested ('self', 'step_function'), but source function had ()\n",
      "To silence this warning, decorate the function with @tf.autograph.experimental.do_not_convert\n",
      "105/105 [==============================] - 1s 8ms/step\n"
     ]
    }
   ],
   "source": [
    "prediction_model_gru = model_gru.predict(test_sequences)"
   ]
  }
 ],
 "metadata": {
  "kernelspec": {
   "display_name": "Python 3.9.13 ('base')",
   "language": "python",
   "name": "python3"
  },
  "language_info": {
   "codemirror_mode": {
    "name": "ipython",
    "version": 3
   },
   "file_extension": ".py",
   "mimetype": "text/x-python",
   "name": "python",
   "nbconvert_exporter": "python",
   "pygments_lexer": "ipython3",
   "version": "3.9.13"
  },
  "orig_nbformat": 4,
  "vscode": {
   "interpreter": {
    "hash": "2d8559e58fad08f6b149f9f678acd42e602cfd8cee785110be98faa6bcb4ac45"
   }
  }
 },
 "nbformat": 4,
 "nbformat_minor": 2
}
